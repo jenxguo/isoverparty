{
 "cells": [
  {
   "cell_type": "code",
   "execution_count": 279,
   "metadata": {},
   "outputs": [],
   "source": [
    "#imports\n",
    "import twint\n",
    "import pandas as pd\n",
    "import seaborn as sns\n",
    "import matplotlib.pyplot as plt\n",
    "import os\n",
    "import sys\n",
    "import datetime"
   ]
  },
  {
   "cell_type": "code",
   "execution_count": 30,
   "metadata": {},
   "outputs": [],
   "source": [
    "#optimus\n",
    "from optimus import Optimus\n",
    "op = Optimus()"
   ]
  },
  {
   "cell_type": "code",
   "execution_count": 31,
   "metadata": {},
   "outputs": [],
   "source": [
    "#compatibility issues\n",
    "import nest_asyncio\n",
    "nest_asyncio.apply()"
   ]
  },
  {
   "cell_type": "code",
   "execution_count": 98,
   "metadata": {},
   "outputs": [],
   "source": [
    "#more imports\n",
    "from textblob import TextBlob\n",
    "from pyspark.sql.functions import udf, col, avg\n",
    "from pyspark.sql.types import DoubleType"
   ]
  },
  {
   "cell_type": "code",
   "execution_count": 46,
   "metadata": {},
   "outputs": [],
   "source": [
    "#disable printing\n",
    "class HiddenPrints:\n",
    "    def __enter__(self):\n",
    "        self._original_stdout = sys.stdout\n",
    "        sys.stdout = open(os.devnull, 'w')\n",
    "\n",
    "    def __exit__(self, exc_type, exc_val, exc_tb):\n",
    "        sys.stdout.close()\n",
    "        sys.stdout = self._original_stdout"
   ]
  },
  {
   "cell_type": "code",
   "execution_count": 33,
   "metadata": {},
   "outputs": [],
   "source": [
    "#set up TWINT\n",
    "c = twint.Config()"
   ]
  },
  {
   "cell_type": "code",
   "execution_count": 262,
   "metadata": {},
   "outputs": [],
   "source": [
    "#get sentiment\n",
    "def apply_blob(sentence):\n",
    "    temp = TextBlob(sentence).sentiment[0]\n",
    "    if temp == 0.0:\n",
    "        return 0.0 # Neutral\n",
    "    elif temp >= 0.0:\n",
    "        return 1.0 # Positive\n",
    "    else:\n",
    "        return -1.0 # Negative"
   ]
  },
  {
   "cell_type": "code",
   "execution_count": 263,
   "metadata": {},
   "outputs": [],
   "source": [
    "# UDF to write sentiment on DF\n",
    "sentiment = udf(apply_blob, DoubleType())"
   ]
  },
  {
   "cell_type": "code",
   "execution_count": 264,
   "metadata": {},
   "outputs": [],
   "source": [
    "#to pandas dataframe\n",
    "def twint_to_pandas(columns):\n",
    "    return twint.output.panda.Tweets_df[columns]"
   ]
  },
  {
   "cell_type": "code",
   "execution_count": 265,
   "metadata": {},
   "outputs": [],
   "source": [
    "#gets average sentiment for certain day on scale of 0.0 to 2.0 (neg to pos)\n",
    "def tweets_sentiment(search, day):\n",
    "    c.Search = search\n",
    "    # Custom output format\n",
    "    c.Format = \"Username: {username} |  Tweet: {tweet}\"\n",
    "    c.Limit = 5\n",
    "    c.Since = day.strftime(\"%Y-%m-%d %H:%M:%S\")\n",
    "    c.Until = (day + datetime.timedelta(days=1)).strftime(\"%Y-%m-%d %H:%M:%S\")\n",
    "    c.Pandas = True\n",
    "    with HiddenPrints():\n",
    "        print(twint.run.Search(c))\n",
    "    \n",
    "    # Transform tweets to pandas DF\n",
    "    df_pd = twint_to_pandas([\"date\", \"username\", \"tweet\"])\n",
    "    \n",
    "    # Transform Pandas DF to Optimus/Spark DF\n",
    "    df = op.create.data_frame(pdf= df_pd)\n",
    "    \n",
    "    # Clean tweets\n",
    "    clean_tweets = df.cols.remove_accents(\"tweet\") \\\n",
    "                 .cols.remove_special_chars(\"tweet\")\n",
    "    \n",
    "    # Add sentiment to final DF\n",
    "    sentcol = clean_tweets.withColumn(\"sentiment\",    sentiment(clean_tweets['tweet'])).select(\"*\").toPandas()\n",
    "    return sentcol[\"sentiment\"].mean()"
   ]
  },
  {
   "cell_type": "code",
   "execution_count": 286,
   "metadata": {},
   "outputs": [],
   "source": [
    "def sentiment_over_time(search, years, deltaday):\n",
    "    #create list of datetime objects for every day from now until years ago, base is yesterday, every 5 days\n",
    "    base = datetime.datetime.today() - datetime.timedelta(days=1)\n",
    "    date_list = [(base - datetime.timedelta(days=x)).date() for x in list(range(years*365))[0::deltaday]]\n",
    "    #create list of sentiments\n",
    "    sentiment_list = [(tweets_sentiment(search, date)) for date in date_list]\n",
    "    #store as pandas df\n",
    "    d = {'Date': date_list, 'Sentiment': sentiment_list}\n",
    "    df = pd.DataFrame(d)\n",
    "    #make dates split into month day year\n",
    "    df['Year'] = df['Date'].apply(lambda date: date.year)\n",
    "    df['Month'] = df['Date'].apply(lambda date: date.month)\n",
    "    df['Day'] = df['Date'].apply(lambda date: date.day)\n",
    "    df['MonthYear'] = df['Date'].apply(lambda date: date.strftime(\"%m/%Y\"))\n",
    "    df.drop(\"Date\", axis=1, inplace=True)\n",
    "    return df"
   ]
  },
  {
   "cell_type": "code",
   "execution_count": 308,
   "metadata": {},
   "outputs": [],
   "source": [
    "def get_timeline(search, years, deltaday):\n",
    "    df = sentiment_over_time(search, years, deltaday)\n",
    "    df = df.iloc[::-1]\n",
    "    \n",
    "    sns.set_style(\"whitegrid\")\n",
    "    sns.set(rc={'figure.figsize':(15,10)})\n",
    "    ax = sns.barplot(x=\"MonthYear\", y=\"Sentiment\", data=df, palette=\"vlag\")\n",
    "    ax.axhline(0, color=\"k\", clip_on=False)\n",
    "    title = \"Twitter Sentiment Timeline for {}\".format(search)\n",
    "    ax.set(xlabel=\"Date\", ylabel=\"+/- Sentiment\", title=title)\n",
    "    plt.ylim(-1,1)\n",
    "    return ax"
   ]
  },
  {
   "cell_type": "code",
   "execution_count": 310,
   "metadata": {},
   "outputs": [
    {
     "data": {
      "text/plain": [
       "<matplotlib.axes._subplots.AxesSubplot at 0x1a3427ea10>"
      ]
     },
     "execution_count": 310,
     "metadata": {},
     "output_type": "execute_result"
    },
    {
     "data": {
      "image/png": "[encoded data removed]",
      "text/plain": [
       "<Figure size 1080x720 with 1 Axes>"
      ]
     },
     "metadata": {},
     "output_type": "display_data"
    }
   ],
   "source": [
    "get_timeline(\"hitler\", 1, 3)"
   ]
  },
  {
   "cell_type": "code",
   "execution_count": 311,
   "metadata": {},
   "outputs": [],
   "source": [
    "df = sentiment_over_time(\"jk rowling\", 1, 3)\n",
    "df = df.iloc[::-1]"
   ]
  },
  {
   "cell_type": "code",
   "execution_count": null,
   "metadata": {},
   "outputs": [],
   "source": []
  }
 ],
 "metadata": {
  "kernelspec": {
   "display_name": "Python 3",
   "language": "python",
   "name": "python3"
  },
  "language_info": {
   "codemirror_mode": {
    "name": "ipython",
    "version": 3
   },
   "file_extension": ".py",
   "mimetype": "text/x-python",
   "name": "python",
   "nbconvert_exporter": "python",
   "pygments_lexer": "ipython3",
   "version": "3.7.6"
  }
 },
 "nbformat": 4,
 "nbformat_minor": 4
}
